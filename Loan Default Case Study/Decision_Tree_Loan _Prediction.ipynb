{
 "cells": [
  {
   "cell_type": "markdown",
   "metadata": {},
   "source": [
    "# <font size=6.5> <font color = darkblue> Understanding Decision Trees with Loan problem"
   ]
  },
  {
   "cell_type": "code",
   "execution_count": 1,
   "metadata": {},
   "outputs": [],
   "source": [
    "import numpy as np\n",
    "import pandas as pd\n",
    "import matplotlib.pyplot as plt"
   ]
  },
  {
   "cell_type": "code",
   "execution_count": 2,
   "metadata": {},
   "outputs": [],
   "source": [
    "plt.rcParams['font.size']=14\n",
    "plt.rcParams['axes.grid']=True"
   ]
  },
  {
   "cell_type": "markdown",
   "metadata": {},
   "source": [
    "# Can you predict which customers to not give loan to?"
   ]
  },
  {
   "cell_type": "markdown",
   "metadata": {},
   "source": [
    "<font color = darkblue > <strong>\n",
    "Bunjab National Bank (BNB) is a large bank, and often gives out personal and business loans. Off-late the bank is in a lot of financial stress, as a lot of borrowers are not paying their EMI's and hence defaulting on their loans. Some of the borrowers, like PJ Mallya and Mirav Modi have even fled to UK to avoid paying back their loans.<br>\n",
    "BNB has some data about their past customers, and wants to see if Machine Learning (ML) can be used on this dataset to predict whether certain customers will default on their loans or not. Since BNB plans to use the ML model to decide whether to sanction or reject loans to future customers, it wants to be absolutely sure of the model before deploying it.<br>\n",
    "To test the ML model performnce, BNB has hidden the target column of a portion of the dataset, and wants you to make predictions on this portion of the dataset based on your best Machine Learning Model.<br>\n",
    "Since, both precision and recall of the model are equally important to BNB, it has decided to use F1 as a metric to evaluate your ML model."
   ]
  },
  {
   "cell_type": "markdown",
   "metadata": {},
   "source": [
    "---"
   ]
  },
  {
   "cell_type": "markdown",
   "metadata": {},
   "source": [
    "* __Column Name:-------------------Description__ \n",
    "* UniqueID:------------------------------------- Identifier for customers\n",
    "* disbursed_amount:------------------------- Amount of Loan disbursed\n",
    "* asset_cost:----------------------------------- Cost of the Asset\n",
    "* ltv:---------------------------------------------- Loan to Value of the asset\n",
    "* branch_id:------------------------------------\tBranch where the loan was disbursed\n",
    "* Employment_Type:------------------------\tEmployment Type of the customer (Salaried/Self Employed)\n",
    "* State_ID:------------------------------------- State of disbursement\n",
    "* MobileNo_Avl_Flag:-----------------------\tif Mobile no. was shared by the customer then flagged as 1\n",
    "* Aadhar_flag:--------------------------------- if aadhar was shared by the customer then flagged as 1\n",
    "* PERFORM_CNS_SCORE_DESCRIPTION:--------- Credit Bureau score category\n",
    "* PRI_NO_OF_ACCTS:--------------------- count of total loans taken by the customer at the time of disbursement\n",
    "* PRI_ACTIVE_ACCTS:-------------------- count of active loans taken by the customer at the time of disbursement\n",
    "* PRI_OVERDUE_ACCTS:----------------- count of default accounts at the time of disbursement\n",
    "* PRI_CURRENT_BALANCE:------------- total Principal outstanding amount of the active loans at the time of disbursement\n",
    "* PRIMARY_INSTAL_AMT:-----------------\tEMI Amount of the primary loan\n",
    "* NEW_ACCTS_IN_LAST_SIX_MONTHS:--------------\tNew loans taken by the customer in last 6 months before the disbursment\n",
    "* DELINQUENT_ACCTS_IN_LAST_SIX_MONTHS:------- Loans defaulted in the last 6 months\n",
    "* NO_OF_INQUIRIES:-----------------------\tEnquries done by the customer for loans\n",
    "* loan_default:----------------------------------\tPayment default in the first EMI on due date (Target)"
   ]
  },
  {
   "cell_type": "code",
   "execution_count": 3,
   "metadata": {},
   "outputs": [],
   "source": [
    "loan = pd.read_csv('d:/Cfiles/Datasets/Class/loan/loan_past.csv')"
   ]
  },
  {
   "cell_type": "code",
   "execution_count": 4,
   "metadata": {},
   "outputs": [
    {
     "data": {
      "text/html": [
       "<div>\n",
       "<style scoped>\n",
       "    .dataframe tbody tr th:only-of-type {\n",
       "        vertical-align: middle;\n",
       "    }\n",
       "\n",
       "    .dataframe tbody tr th {\n",
       "        vertical-align: top;\n",
       "    }\n",
       "\n",
       "    .dataframe thead th {\n",
       "        text-align: right;\n",
       "    }\n",
       "</style>\n",
       "<table border=\"1\" class=\"dataframe\">\n",
       "  <thead>\n",
       "    <tr style=\"text-align: right;\">\n",
       "      <th></th>\n",
       "      <th>UniqueID</th>\n",
       "      <th>disbursed_amount</th>\n",
       "      <th>asset_cost</th>\n",
       "      <th>ltv</th>\n",
       "      <th>branch_id</th>\n",
       "      <th>Employment_Type</th>\n",
       "      <th>State_ID</th>\n",
       "      <th>MobileNo_Avl_Flag</th>\n",
       "      <th>Aadhar_flag</th>\n",
       "      <th>PERFORM_CNS_SCORE_DESCRIPTION</th>\n",
       "      <th>PRI_NO_OF_ACCTS</th>\n",
       "      <th>PRI_ACTIVE_ACCTS</th>\n",
       "      <th>PRI_OVERDUE_ACCTS</th>\n",
       "      <th>PRI_CURRENT_BALANCE</th>\n",
       "      <th>PRIMARY_INSTAL_AMT</th>\n",
       "      <th>NEW_ACCTS_IN_LAST_SIX_MONTHS</th>\n",
       "      <th>DELINQUENT_ACCTS_IN_LAST_SIX_MONTHS</th>\n",
       "      <th>NO_OF_INQUIRIES</th>\n",
       "      <th>loan_default</th>\n",
       "    </tr>\n",
       "  </thead>\n",
       "  <tbody>\n",
       "    <tr>\n",
       "      <th>0</th>\n",
       "      <td>471668</td>\n",
       "      <td>46349</td>\n",
       "      <td>94896</td>\n",
       "      <td>50.58</td>\n",
       "      <td>103</td>\n",
       "      <td>Self employed</td>\n",
       "      <td>7</td>\n",
       "      <td>1</td>\n",
       "      <td>1</td>\n",
       "      <td>No History</td>\n",
       "      <td>0</td>\n",
       "      <td>0</td>\n",
       "      <td>0</td>\n",
       "      <td>0</td>\n",
       "      <td>0</td>\n",
       "      <td>0</td>\n",
       "      <td>0</td>\n",
       "      <td>0</td>\n",
       "      <td>0</td>\n",
       "    </tr>\n",
       "    <tr>\n",
       "      <th>1</th>\n",
       "      <td>616598</td>\n",
       "      <td>68369</td>\n",
       "      <td>87736</td>\n",
       "      <td>78.87</td>\n",
       "      <td>2</td>\n",
       "      <td>Self employed</td>\n",
       "      <td>4</td>\n",
       "      <td>1</td>\n",
       "      <td>1</td>\n",
       "      <td>No History</td>\n",
       "      <td>0</td>\n",
       "      <td>0</td>\n",
       "      <td>0</td>\n",
       "      <td>0</td>\n",
       "      <td>0</td>\n",
       "      <td>0</td>\n",
       "      <td>0</td>\n",
       "      <td>0</td>\n",
       "      <td>0</td>\n",
       "    </tr>\n",
       "    <tr>\n",
       "      <th>2</th>\n",
       "      <td>548216</td>\n",
       "      <td>58447</td>\n",
       "      <td>73842</td>\n",
       "      <td>81.93</td>\n",
       "      <td>251</td>\n",
       "      <td>Self employed</td>\n",
       "      <td>13</td>\n",
       "      <td>1</td>\n",
       "      <td>0</td>\n",
       "      <td>No History</td>\n",
       "      <td>0</td>\n",
       "      <td>0</td>\n",
       "      <td>0</td>\n",
       "      <td>0</td>\n",
       "      <td>0</td>\n",
       "      <td>0</td>\n",
       "      <td>0</td>\n",
       "      <td>0</td>\n",
       "      <td>1</td>\n",
       "    </tr>\n",
       "    <tr>\n",
       "      <th>3</th>\n",
       "      <td>530120</td>\n",
       "      <td>49803</td>\n",
       "      <td>69035</td>\n",
       "      <td>73.88</td>\n",
       "      <td>34</td>\n",
       "      <td>Self employed</td>\n",
       "      <td>6</td>\n",
       "      <td>1</td>\n",
       "      <td>1</td>\n",
       "      <td>No History</td>\n",
       "      <td>0</td>\n",
       "      <td>0</td>\n",
       "      <td>0</td>\n",
       "      <td>0</td>\n",
       "      <td>0</td>\n",
       "      <td>0</td>\n",
       "      <td>0</td>\n",
       "      <td>0</td>\n",
       "      <td>0</td>\n",
       "    </tr>\n",
       "    <tr>\n",
       "      <th>4</th>\n",
       "      <td>429247</td>\n",
       "      <td>55089</td>\n",
       "      <td>67131</td>\n",
       "      <td>87.89</td>\n",
       "      <td>42</td>\n",
       "      <td>Salaried</td>\n",
       "      <td>3</td>\n",
       "      <td>1</td>\n",
       "      <td>1</td>\n",
       "      <td>C-Medium Risk</td>\n",
       "      <td>9</td>\n",
       "      <td>3</td>\n",
       "      <td>1</td>\n",
       "      <td>1064938</td>\n",
       "      <td>17236</td>\n",
       "      <td>0</td>\n",
       "      <td>0</td>\n",
       "      <td>1</td>\n",
       "      <td>0</td>\n",
       "    </tr>\n",
       "  </tbody>\n",
       "</table>\n",
       "</div>"
      ],
      "text/plain": [
       "   UniqueID  disbursed_amount  asset_cost    ltv  branch_id Employment_Type  \\\n",
       "0    471668             46349       94896  50.58        103   Self employed   \n",
       "1    616598             68369       87736  78.87          2   Self employed   \n",
       "2    548216             58447       73842  81.93        251   Self employed   \n",
       "3    530120             49803       69035  73.88         34   Self employed   \n",
       "4    429247             55089       67131  87.89         42        Salaried   \n",
       "\n",
       "   State_ID  MobileNo_Avl_Flag  Aadhar_flag PERFORM_CNS_SCORE_DESCRIPTION  \\\n",
       "0         7                  1            1                    No History   \n",
       "1         4                  1            1                    No History   \n",
       "2        13                  1            0                    No History   \n",
       "3         6                  1            1                    No History   \n",
       "4         3                  1            1                 C-Medium Risk   \n",
       "\n",
       "   PRI_NO_OF_ACCTS  PRI_ACTIVE_ACCTS  PRI_OVERDUE_ACCTS  PRI_CURRENT_BALANCE  \\\n",
       "0                0                 0                  0                    0   \n",
       "1                0                 0                  0                    0   \n",
       "2                0                 0                  0                    0   \n",
       "3                0                 0                  0                    0   \n",
       "4                9                 3                  1              1064938   \n",
       "\n",
       "   PRIMARY_INSTAL_AMT  NEW_ACCTS_IN_LAST_SIX_MONTHS  \\\n",
       "0                   0                             0   \n",
       "1                   0                             0   \n",
       "2                   0                             0   \n",
       "3                   0                             0   \n",
       "4               17236                             0   \n",
       "\n",
       "   DELINQUENT_ACCTS_IN_LAST_SIX_MONTHS  NO_OF_INQUIRIES  loan_default  \n",
       "0                                    0                0             0  \n",
       "1                                    0                0             0  \n",
       "2                                    0                0             1  \n",
       "3                                    0                0             0  \n",
       "4                                    0                1             0  "
      ]
     },
     "execution_count": 4,
     "metadata": {},
     "output_type": "execute_result"
    }
   ],
   "source": [
    "loan.head()"
   ]
  },
  {
   "cell_type": "code",
   "execution_count": 5,
   "metadata": {},
   "outputs": [
    {
     "data": {
      "text/plain": [
       "(100000, 19)"
      ]
     },
     "execution_count": 5,
     "metadata": {},
     "output_type": "execute_result"
    }
   ],
   "source": [
    "loan.shape"
   ]
  },
  {
   "cell_type": "markdown",
   "metadata": {},
   "source": [
    "### Data Preperation"
   ]
  },
  {
   "cell_type": "code",
   "execution_count": 6,
   "metadata": {},
   "outputs": [
    {
     "data": {
      "text/plain": [
       "UniqueID                                  0\n",
       "disbursed_amount                          0\n",
       "asset_cost                                0\n",
       "ltv                                       0\n",
       "branch_id                                 0\n",
       "Employment_Type                        3312\n",
       "State_ID                                  0\n",
       "MobileNo_Avl_Flag                         0\n",
       "Aadhar_flag                               0\n",
       "PERFORM_CNS_SCORE_DESCRIPTION             0\n",
       "PRI_NO_OF_ACCTS                           0\n",
       "PRI_ACTIVE_ACCTS                          0\n",
       "PRI_OVERDUE_ACCTS                         0\n",
       "PRI_CURRENT_BALANCE                       0\n",
       "PRIMARY_INSTAL_AMT                        0\n",
       "NEW_ACCTS_IN_LAST_SIX_MONTHS              0\n",
       "DELINQUENT_ACCTS_IN_LAST_SIX_MONTHS       0\n",
       "NO_OF_INQUIRIES                           0\n",
       "loan_default                              0\n",
       "dtype: int64"
      ]
     },
     "execution_count": 6,
     "metadata": {},
     "output_type": "execute_result"
    }
   ],
   "source": [
    "loan.isnull().sum()"
   ]
  },
  {
   "cell_type": "code",
   "execution_count": 7,
   "metadata": {},
   "outputs": [],
   "source": [
    "loan.Employment_Type.fillna('unknown', inplace = True)"
   ]
  },
  {
   "cell_type": "code",
   "execution_count": 8,
   "metadata": {},
   "outputs": [
    {
     "data": {
      "text/plain": [
       "UniqueID                               100000\n",
       "disbursed_amount                        15255\n",
       "asset_cost                              32303\n",
       "ltv                                      5872\n",
       "branch_id                                  82\n",
       "Employment_Type                             3\n",
       "State_ID                                   22\n",
       "MobileNo_Avl_Flag                           1\n",
       "Aadhar_flag                                 2\n",
       "PERFORM_CNS_SCORE_DESCRIPTION               7\n",
       "PRI_NO_OF_ACCTS                            87\n",
       "PRI_ACTIVE_ACCTS                           34\n",
       "PRI_OVERDUE_ACCTS                          22\n",
       "PRI_CURRENT_BALANCE                     33850\n",
       "PRIMARY_INSTAL_AMT                      16699\n",
       "NEW_ACCTS_IN_LAST_SIX_MONTHS               21\n",
       "DELINQUENT_ACCTS_IN_LAST_SIX_MONTHS        13\n",
       "NO_OF_INQUIRIES                            20\n",
       "loan_default                                2\n",
       "dtype: int64"
      ]
     },
     "execution_count": 8,
     "metadata": {},
     "output_type": "execute_result"
    }
   ],
   "source": [
    "loan.nunique()"
   ]
  },
  {
   "cell_type": "code",
   "execution_count": 9,
   "metadata": {},
   "outputs": [],
   "source": [
    "loan.drop(['MobileNo_Avl_Flag', 'UniqueID'], axis=1, inplace=True)"
   ]
  },
  {
   "cell_type": "code",
   "execution_count": 10,
   "metadata": {},
   "outputs": [
    {
     "data": {
      "text/plain": [
       "disbursed_amount                         int64\n",
       "asset_cost                               int64\n",
       "ltv                                    float64\n",
       "branch_id                                int64\n",
       "Employment_Type                         object\n",
       "State_ID                                 int64\n",
       "Aadhar_flag                              int64\n",
       "PERFORM_CNS_SCORE_DESCRIPTION           object\n",
       "PRI_NO_OF_ACCTS                          int64\n",
       "PRI_ACTIVE_ACCTS                         int64\n",
       "PRI_OVERDUE_ACCTS                        int64\n",
       "PRI_CURRENT_BALANCE                      int64\n",
       "PRIMARY_INSTAL_AMT                       int64\n",
       "NEW_ACCTS_IN_LAST_SIX_MONTHS             int64\n",
       "DELINQUENT_ACCTS_IN_LAST_SIX_MONTHS      int64\n",
       "NO_OF_INQUIRIES                          int64\n",
       "loan_default                             int64\n",
       "dtype: object"
      ]
     },
     "execution_count": 10,
     "metadata": {},
     "output_type": "execute_result"
    }
   ],
   "source": [
    "loan.dtypes"
   ]
  },
  {
   "cell_type": "code",
   "execution_count": 11,
   "metadata": {},
   "outputs": [
    {
     "data": {
      "text/plain": [
       "array(['Self employed', 'Salaried', 'unknown'], dtype=object)"
      ]
     },
     "execution_count": 11,
     "metadata": {},
     "output_type": "execute_result"
    }
   ],
   "source": [
    "loan.Employment_Type.unique()"
   ]
  },
  {
   "cell_type": "code",
   "execution_count": 15,
   "metadata": {},
   "outputs": [],
   "source": [
    "# loan.groupby(['Employment_Type'])['loan_default'].mean()"
   ]
  },
  {
   "cell_type": "code",
   "execution_count": 12,
   "metadata": {},
   "outputs": [
    {
     "data": {
      "text/plain": [
       "array(['No History', 'C-Medium Risk', 'D-High Risk', 'A-Very Low Risk',\n",
       "       'B-Low Risk', 'Not Scored', 'E-Very High Risk'], dtype=object)"
      ]
     },
     "execution_count": 12,
     "metadata": {},
     "output_type": "execute_result"
    }
   ],
   "source": [
    "loan.PERFORM_CNS_SCORE_DESCRIPTION.unique()"
   ]
  },
  {
   "cell_type": "code",
   "execution_count": 13,
   "metadata": {},
   "outputs": [],
   "source": [
    "from sklearn.preprocessing import OrdinalEncoder"
   ]
  },
  {
   "cell_type": "code",
   "execution_count": 16,
   "metadata": {},
   "outputs": [],
   "source": [
    "encoder = OrdinalEncoder(categories=[['unknown', 'Self employed', 'Salaried']])\n",
    "loan.Employment_Type = encoder.fit_transform(loan[['Employment_Type']])"
   ]
  },
  {
   "cell_type": "code",
   "execution_count": 17,
   "metadata": {},
   "outputs": [],
   "source": [
    "encoder = OrdinalEncoder(categories=[['No History', 'E-Very High Risk', 'D-High Risk', 'Not Scored', 'C-Medium Risk', \\\n",
    "                                      'A-Very Low Risk', 'B-Low Risk']])\n",
    "loan.PERFORM_CNS_SCORE_DESCRIPTION = encoder.fit_transform(loan[['PERFORM_CNS_SCORE_DESCRIPTION']])"
   ]
  },
  {
   "cell_type": "code",
   "execution_count": 18,
   "metadata": {},
   "outputs": [
    {
     "data": {
      "text/html": [
       "<div>\n",
       "<style scoped>\n",
       "    .dataframe tbody tr th:only-of-type {\n",
       "        vertical-align: middle;\n",
       "    }\n",
       "\n",
       "    .dataframe tbody tr th {\n",
       "        vertical-align: top;\n",
       "    }\n",
       "\n",
       "    .dataframe thead th {\n",
       "        text-align: right;\n",
       "    }\n",
       "</style>\n",
       "<table border=\"1\" class=\"dataframe\">\n",
       "  <thead>\n",
       "    <tr style=\"text-align: right;\">\n",
       "      <th></th>\n",
       "      <th>disbursed_amount</th>\n",
       "      <th>asset_cost</th>\n",
       "      <th>ltv</th>\n",
       "      <th>branch_id</th>\n",
       "      <th>Employment_Type</th>\n",
       "      <th>State_ID</th>\n",
       "      <th>Aadhar_flag</th>\n",
       "      <th>PERFORM_CNS_SCORE_DESCRIPTION</th>\n",
       "      <th>PRI_NO_OF_ACCTS</th>\n",
       "      <th>PRI_ACTIVE_ACCTS</th>\n",
       "      <th>PRI_OVERDUE_ACCTS</th>\n",
       "      <th>PRI_CURRENT_BALANCE</th>\n",
       "      <th>PRIMARY_INSTAL_AMT</th>\n",
       "      <th>NEW_ACCTS_IN_LAST_SIX_MONTHS</th>\n",
       "      <th>DELINQUENT_ACCTS_IN_LAST_SIX_MONTHS</th>\n",
       "      <th>NO_OF_INQUIRIES</th>\n",
       "      <th>loan_default</th>\n",
       "    </tr>\n",
       "  </thead>\n",
       "  <tbody>\n",
       "    <tr>\n",
       "      <th>0</th>\n",
       "      <td>46349</td>\n",
       "      <td>94896</td>\n",
       "      <td>50.58</td>\n",
       "      <td>103</td>\n",
       "      <td>1.0</td>\n",
       "      <td>7</td>\n",
       "      <td>1</td>\n",
       "      <td>0.0</td>\n",
       "      <td>0</td>\n",
       "      <td>0</td>\n",
       "      <td>0</td>\n",
       "      <td>0</td>\n",
       "      <td>0</td>\n",
       "      <td>0</td>\n",
       "      <td>0</td>\n",
       "      <td>0</td>\n",
       "      <td>0</td>\n",
       "    </tr>\n",
       "    <tr>\n",
       "      <th>1</th>\n",
       "      <td>68369</td>\n",
       "      <td>87736</td>\n",
       "      <td>78.87</td>\n",
       "      <td>2</td>\n",
       "      <td>1.0</td>\n",
       "      <td>4</td>\n",
       "      <td>1</td>\n",
       "      <td>0.0</td>\n",
       "      <td>0</td>\n",
       "      <td>0</td>\n",
       "      <td>0</td>\n",
       "      <td>0</td>\n",
       "      <td>0</td>\n",
       "      <td>0</td>\n",
       "      <td>0</td>\n",
       "      <td>0</td>\n",
       "      <td>0</td>\n",
       "    </tr>\n",
       "    <tr>\n",
       "      <th>2</th>\n",
       "      <td>58447</td>\n",
       "      <td>73842</td>\n",
       "      <td>81.93</td>\n",
       "      <td>251</td>\n",
       "      <td>1.0</td>\n",
       "      <td>13</td>\n",
       "      <td>0</td>\n",
       "      <td>0.0</td>\n",
       "      <td>0</td>\n",
       "      <td>0</td>\n",
       "      <td>0</td>\n",
       "      <td>0</td>\n",
       "      <td>0</td>\n",
       "      <td>0</td>\n",
       "      <td>0</td>\n",
       "      <td>0</td>\n",
       "      <td>1</td>\n",
       "    </tr>\n",
       "    <tr>\n",
       "      <th>3</th>\n",
       "      <td>49803</td>\n",
       "      <td>69035</td>\n",
       "      <td>73.88</td>\n",
       "      <td>34</td>\n",
       "      <td>1.0</td>\n",
       "      <td>6</td>\n",
       "      <td>1</td>\n",
       "      <td>0.0</td>\n",
       "      <td>0</td>\n",
       "      <td>0</td>\n",
       "      <td>0</td>\n",
       "      <td>0</td>\n",
       "      <td>0</td>\n",
       "      <td>0</td>\n",
       "      <td>0</td>\n",
       "      <td>0</td>\n",
       "      <td>0</td>\n",
       "    </tr>\n",
       "    <tr>\n",
       "      <th>4</th>\n",
       "      <td>55089</td>\n",
       "      <td>67131</td>\n",
       "      <td>87.89</td>\n",
       "      <td>42</td>\n",
       "      <td>2.0</td>\n",
       "      <td>3</td>\n",
       "      <td>1</td>\n",
       "      <td>4.0</td>\n",
       "      <td>9</td>\n",
       "      <td>3</td>\n",
       "      <td>1</td>\n",
       "      <td>1064938</td>\n",
       "      <td>17236</td>\n",
       "      <td>0</td>\n",
       "      <td>0</td>\n",
       "      <td>1</td>\n",
       "      <td>0</td>\n",
       "    </tr>\n",
       "  </tbody>\n",
       "</table>\n",
       "</div>"
      ],
      "text/plain": [
       "   disbursed_amount  asset_cost    ltv  branch_id  Employment_Type  State_ID  \\\n",
       "0             46349       94896  50.58        103              1.0         7   \n",
       "1             68369       87736  78.87          2              1.0         4   \n",
       "2             58447       73842  81.93        251              1.0        13   \n",
       "3             49803       69035  73.88         34              1.0         6   \n",
       "4             55089       67131  87.89         42              2.0         3   \n",
       "\n",
       "   Aadhar_flag  PERFORM_CNS_SCORE_DESCRIPTION  PRI_NO_OF_ACCTS  \\\n",
       "0            1                            0.0                0   \n",
       "1            1                            0.0                0   \n",
       "2            0                            0.0                0   \n",
       "3            1                            0.0                0   \n",
       "4            1                            4.0                9   \n",
       "\n",
       "   PRI_ACTIVE_ACCTS  PRI_OVERDUE_ACCTS  PRI_CURRENT_BALANCE  \\\n",
       "0                 0                  0                    0   \n",
       "1                 0                  0                    0   \n",
       "2                 0                  0                    0   \n",
       "3                 0                  0                    0   \n",
       "4                 3                  1              1064938   \n",
       "\n",
       "   PRIMARY_INSTAL_AMT  NEW_ACCTS_IN_LAST_SIX_MONTHS  \\\n",
       "0                   0                             0   \n",
       "1                   0                             0   \n",
       "2                   0                             0   \n",
       "3                   0                             0   \n",
       "4               17236                             0   \n",
       "\n",
       "   DELINQUENT_ACCTS_IN_LAST_SIX_MONTHS  NO_OF_INQUIRIES  loan_default  \n",
       "0                                    0                0             0  \n",
       "1                                    0                0             0  \n",
       "2                                    0                0             1  \n",
       "3                                    0                0             0  \n",
       "4                                    0                1             0  "
      ]
     },
     "execution_count": 18,
     "metadata": {},
     "output_type": "execute_result"
    }
   ],
   "source": [
    "loan.head()"
   ]
  },
  {
   "cell_type": "code",
   "execution_count": null,
   "metadata": {},
   "outputs": [],
   "source": []
  },
  {
   "cell_type": "markdown",
   "metadata": {},
   "source": [
    "### Splitting and Dividing the dataset"
   ]
  },
  {
   "cell_type": "code",
   "execution_count": null,
   "metadata": {},
   "outputs": [],
   "source": [
    "X = loan.drop('loan_default', axis=1)\n",
    "y= loan.loan_default"
   ]
  },
  {
   "cell_type": "code",
   "execution_count": null,
   "metadata": {},
   "outputs": [],
   "source": [
    "from sklearn.model_selection import train_test_split"
   ]
  },
  {
   "cell_type": "code",
   "execution_count": null,
   "metadata": {},
   "outputs": [],
   "source": [
    "x_train, x_test, y_train, y_test = train_test_split(X, y, test_size = 0.25, random_state=1) "
   ]
  },
  {
   "cell_type": "markdown",
   "metadata": {},
   "source": [
    "---"
   ]
  },
  {
   "cell_type": "markdown",
   "metadata": {},
   "source": [
    "## Understanding Decision Tree through plots"
   ]
  },
  {
   "cell_type": "code",
   "execution_count": null,
   "metadata": {},
   "outputs": [],
   "source": [
    "from sklearn.tree import DecisionTreeClassifier, plot_tree"
   ]
  },
  {
   "cell_type": "code",
   "execution_count": null,
   "metadata": {},
   "outputs": [],
   "source": [
    "x_mini = x_train.iloc[:250, :4]"
   ]
  },
  {
   "cell_type": "code",
   "execution_count": null,
   "metadata": {},
   "outputs": [],
   "source": [
    "for ind, col in enumerate(x_mini.columns):\n",
    "    print(ind, col)"
   ]
  },
  {
   "cell_type": "code",
   "execution_count": null,
   "metadata": {},
   "outputs": [],
   "source": [
    "dt = DecisionTreeClassifier()\n",
    "dt.fit(x_mini, y_train[:250])\n",
    "\n",
    "plt.figure(figsize=(20, 30))\n",
    "plot_tree(dt, filled = True, fontsize=14)\n",
    "plt.show()"
   ]
  },
  {
   "cell_type": "code",
   "execution_count": null,
   "metadata": {},
   "outputs": [],
   "source": [
    "p1 = 210/250\n",
    "p2 = 40/250\n",
    "gini = 1 - (p1**2 + p2**2)\n",
    "np.round(gini, 3)"
   ]
  },
  {
   "cell_type": "code",
   "execution_count": null,
   "metadata": {},
   "outputs": [],
   "source": [
    "0.144*64/250 + .306*186/250"
   ]
  },
  {
   "cell_type": "code",
   "execution_count": null,
   "metadata": {},
   "outputs": [],
   "source": [
    "ig = 0.269 - 0.264\n",
    "ig"
   ]
  },
  {
   "cell_type": "markdown",
   "metadata": {},
   "source": [
    "## \\begin{equation*} Gini = 1- \\sum p_i^2 \\end{equation*}\n",
    "* ### $p_{i}$ = Probability of occurance for the i  Class"
   ]
  },
  {
   "cell_type": "code",
   "execution_count": null,
   "metadata": {},
   "outputs": [],
   "source": [
    "p1 = 210/250\n",
    "p2 = 40/250\n",
    "entropy = -p1*np.log2(p1) + -p2*np.log2(p2)\n",
    "np.round(entropy, 3)"
   ]
  },
  {
   "cell_type": "markdown",
   "metadata": {},
   "source": [
    "## \\begin{equation*} Entropy = \\sum -p_i log_2 p_i\\end{equation*}\n",
    "* ### $p_{i}$ = Probability of occurance for the i  Class"
   ]
  },
  {
   "cell_type": "markdown",
   "metadata": {},
   "source": [
    "---"
   ]
  },
  {
   "cell_type": "markdown",
   "metadata": {},
   "source": [
    "### Building the Model"
   ]
  },
  {
   "cell_type": "code",
   "execution_count": null,
   "metadata": {},
   "outputs": [],
   "source": [
    "dt = DecisionTreeClassifier()\n",
    "dt.fit(x_train, y_train)\n",
    "\n",
    "print('Train Accuracy: ', dt.score(x_train, y_train))\n",
    "print('Test Accuracy: ', dt.score(x_test, y_test))"
   ]
  },
  {
   "cell_type": "code",
   "execution_count": null,
   "metadata": {},
   "outputs": [],
   "source": [
    "dt = DecisionTreeClassifier(max_depth= 1)\n",
    "dt.fit(x_train, y_train)\n",
    "\n",
    "print('Train Accuracy: ', dt.score(x_train, y_train))\n",
    "print('Test Accuracy: ', dt.score(x_test, y_test))"
   ]
  },
  {
   "cell_type": "code",
   "execution_count": null,
   "metadata": {},
   "outputs": [],
   "source": [
    "dt.feature_importances_"
   ]
  },
  {
   "cell_type": "markdown",
   "metadata": {},
   "source": [
    "### Other Pruning measures..."
   ]
  },
  {
   "cell_type": "code",
   "execution_count": null,
   "metadata": {},
   "outputs": [],
   "source": [
    "DecisionTreeClassifier?"
   ]
  },
  {
   "cell_type": "markdown",
   "metadata": {},
   "source": [
    "---"
   ]
  },
  {
   "cell_type": "markdown",
   "metadata": {},
   "source": [
    "## Another way to create better models using Decision Tree: Ensembling"
   ]
  },
  {
   "cell_type": "markdown",
   "metadata": {},
   "source": [
    "### Ensemble Models:\n",
    "* #### Bagging: \n",
    "    * Generalises better on Training set. Prone to Underfitting\n",
    "* #### Boosting: \n",
    "    * Performs better on Training set. Prone to Overfitting\n",
    "* #### Although in practice Bagging and Boosting are more popular with decision trees, in theory they can be used with any other models as well"
   ]
  },
  {
   "cell_type": "markdown",
   "metadata": {},
   "source": [
    "---"
   ]
  },
  {
   "cell_type": "markdown",
   "metadata": {},
   "source": [
    "### Bagging: Bootstrap AGGregation\n",
    "* Bootstrap sampling -> sampling with replacement"
   ]
  },
  {
   "cell_type": "markdown",
   "metadata": {},
   "source": [
    "## Random Forest"
   ]
  },
  {
   "cell_type": "code",
   "execution_count": null,
   "metadata": {},
   "outputs": [],
   "source": [
    "from sklearn.ensemble import RandomForestClassifier"
   ]
  },
  {
   "cell_type": "code",
   "execution_count": null,
   "metadata": {},
   "outputs": [],
   "source": [
    "%%time\n",
    "rf = RandomForestClassifier()\n",
    "rf.fit(x_train, y_train)\n",
    "\n",
    "print('Train Accuracy: ', rf.score(x_train, y_train))\n",
    "print('Test Accuracy: ', rf.score(x_test, y_test))"
   ]
  },
  {
   "cell_type": "code",
   "execution_count": null,
   "metadata": {},
   "outputs": [],
   "source": [
    "RandomForestClassifier?"
   ]
  },
  {
   "cell_type": "code",
   "execution_count": null,
   "metadata": {},
   "outputs": [],
   "source": [
    "%%time\n",
    "rf = RandomForestClassifier(n_estimators=10, max_features= 10, max_depth=3, oob_score=True)\n",
    "rf.fit(x_train, y_train)\n",
    "\n",
    "print('Train Accuracy: ', rf.score(x_train, y_train))\n",
    "print('Test Accuracy: ', rf.score(x_test, y_test))"
   ]
  },
  {
   "cell_type": "code",
   "execution_count": null,
   "metadata": {},
   "outputs": [],
   "source": [
    "rf.oob_score_"
   ]
  },
  {
   "cell_type": "markdown",
   "metadata": {},
   "source": [
    "---"
   ]
  },
  {
   "cell_type": "markdown",
   "metadata": {},
   "source": [
    "![](https://media.giphy.com/media/3ohs4xsq0oEhqC4why/giphy.gif)"
   ]
  },
  {
   "cell_type": "code",
   "execution_count": null,
   "metadata": {},
   "outputs": [],
   "source": []
  }
 ],
 "metadata": {
  "kernelspec": {
   "display_name": "Python 3",
   "language": "python",
   "name": "python3"
  },
  "language_info": {
   "codemirror_mode": {
    "name": "ipython",
    "version": 3
   },
   "file_extension": ".py",
   "mimetype": "text/x-python",
   "name": "python",
   "nbconvert_exporter": "python",
   "pygments_lexer": "ipython3",
   "version": "3.7.6"
  }
 },
 "nbformat": 4,
 "nbformat_minor": 4
}
